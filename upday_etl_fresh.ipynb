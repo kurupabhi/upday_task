{
 "cells": [
  {
   "cell_type": "code",
   "execution_count": 101,
   "metadata": {},
   "outputs": [],
   "source": [
    "import json \n",
    "import pandas as pd \n",
    "import numpy as np\n",
    "from ast import literal_eval"
   ]
  },
  {
   "cell_type": "code",
   "execution_count": 3,
   "metadata": {},
   "outputs": [],
   "source": [
    "#import TS files\n",
    "f1 = 'https://upday-data-assignment.s3.eu-west-1.amazonaws.com/lake/2019-02-15.tsv'\n",
    "f2 = 'https://upday-data-assignment.s3.eu-west-1.amazonaws.com/lake/2019-02-16.tsv'\n",
    "f3 = 'https://upday-data-assignment.s3.eu-west-1.amazonaws.com/lake/2019-02-17.tsv'\n",
    "\n",
    "# Convert to dataframes\n",
    "t1 = pd.read_csv(f1, sep='\\t', header=0)\n",
    "t2 = pd.read_csv(f1, sep='\\t', header=0)\n",
    "t3 = pd.read_csv(f1, sep='\\t', header=0)"
   ]
  },
  {
   "cell_type": "code",
   "execution_count": 192,
   "metadata": {},
   "outputs": [],
   "source": [
    "#Apped all files into 1\n",
    "T = t1.append(t2.append(t3)).reset_index()\n",
    "\n",
    "#Create a copy for test\n",
    "T_1 = T.copy()"
   ]
  },
  {
   "cell_type": "code",
   "execution_count": 80,
   "metadata": {},
   "outputs": [
    {
     "data": {
      "text/html": [
       "<div>\n",
       "<style scoped>\n",
       "    .dataframe tbody tr th:only-of-type {\n",
       "        vertical-align: middle;\n",
       "    }\n",
       "\n",
       "    .dataframe tbody tr th {\n",
       "        vertical-align: top;\n",
       "    }\n",
       "\n",
       "    .dataframe thead th {\n",
       "        text-align: right;\n",
       "    }\n",
       "</style>\n",
       "<table border=\"1\" class=\"dataframe\">\n",
       "  <thead>\n",
       "    <tr style=\"text-align: right;\">\n",
       "      <th></th>\n",
       "      <th>category</th>\n",
       "      <th>id</th>\n",
       "      <th>noteType</th>\n",
       "      <th>orientation</th>\n",
       "      <th>position</th>\n",
       "      <th>publishTime</th>\n",
       "      <th>sourceDomain</th>\n",
       "      <th>sourceName</th>\n",
       "      <th>stream</th>\n",
       "      <th>streamType</th>\n",
       "      <th>subcategories</th>\n",
       "      <th>title</th>\n",
       "      <th>url</th>\n",
       "    </tr>\n",
       "  </thead>\n",
       "  <tbody>\n",
       "    <tr>\n",
       "      <th>0</th>\n",
       "      <td>digital_life</td>\n",
       "      <td>jLcW_MnCfbLN8Ph-bsTwGw</td>\n",
       "      <td>TRENDING_SOCIAL</td>\n",
       "      <td>PORTRAIT</td>\n",
       "      <td>1</td>\n",
       "      <td>2019-02-14T21:08:00Z</td>\n",
       "      <td>gamestar.de</td>\n",
       "      <td>GameStar</td>\n",
       "      <td>wtk</td>\n",
       "      <td>my news</td>\n",
       "      <td>[digital_life.games]</td>\n",
       "      <td>News: Overwatch League - 2. Saison startet heu...</td>\n",
       "      <td>https://www.gamestar.de/artikel/overwatch-leag...</td>\n",
       "    </tr>\n",
       "  </tbody>\n",
       "</table>\n",
       "</div>"
      ],
      "text/plain": [
       "       category                      id         noteType orientation position  \\\n",
       "0  digital_life  jLcW_MnCfbLN8Ph-bsTwGw  TRENDING_SOCIAL    PORTRAIT        1   \n",
       "\n",
       "            publishTime sourceDomain sourceName stream streamType  \\\n",
       "0  2019-02-14T21:08:00Z  gamestar.de   GameStar    wtk    my news   \n",
       "\n",
       "          subcategories                                              title  \\\n",
       "0  [digital_life.games]  News: Overwatch League - 2. Saison startet heu...   \n",
       "\n",
       "                                                 url  \n",
       "0  https://www.gamestar.de/artikel/overwatch-leag...  "
      ]
     },
     "execution_count": 80,
     "metadata": {},
     "output_type": "execute_result"
    }
   ],
   "source": [
    "pd.json_normalize(json.loads(pd.json_normalize(T_2[0].to_dict())[0][0]))"
   ]
  },
  {
   "cell_type": "code",
   "execution_count": 151,
   "metadata": {
    "scrolled": true
   },
   "outputs": [
    {
     "data": {
      "text/plain": [
       "str"
      ]
     },
     "execution_count": 151,
     "metadata": {},
     "output_type": "execute_result"
    }
   ],
   "source": [
    "#T_1['ATTRIBUTES'].apply(lambda s: pd.json_normalize(json.loads(s)))\n",
    "type(T_1['ATTRIBUTES'][0])"
   ]
  },
  {
   "cell_type": "code",
   "execution_count": 193,
   "metadata": {
    "scrolled": true
   },
   "outputs": [
    {
     "name": "stderr",
     "output_type": "stream",
     "text": [
      "<ipython-input-193-34448a6a2395>:4: DeprecationWarning: The truth value of an empty array is ambiguous. Returning False, but in future this will result in an error. Use `array.size > 0` to check that an array is not empty.\n",
      "  T_1['ATTRIBUTES'] = T_1['ATTRIBUTES'].apply(lambda x: {} if pd.isna(x) else x)\n"
     ]
    }
   ],
   "source": [
    "T_1['ATTRIBUTES'] = T_1['ATTRIBUTES'].fillna('[]')\n",
    "T_2 = T_1.copy()\n",
    "T_1['ATTRIBUTES'] = T_1['ATTRIBUTES'].apply(json.loads)\n",
    "T_1['ATTRIBUTES'] = T_1['ATTRIBUTES'].apply(lambda x: {} if pd.isna(x) else x)"
   ]
  },
  {
   "cell_type": "code",
   "execution_count": 176,
   "metadata": {},
   "outputs": [
    {
     "data": {
      "text/html": [
       "<div>\n",
       "<style scoped>\n",
       "    .dataframe tbody tr th:only-of-type {\n",
       "        vertical-align: middle;\n",
       "    }\n",
       "\n",
       "    .dataframe tbody tr th {\n",
       "        vertical-align: top;\n",
       "    }\n",
       "\n",
       "    .dataframe thead th {\n",
       "        text-align: right;\n",
       "    }\n",
       "</style>\n",
       "<table border=\"1\" class=\"dataframe\">\n",
       "  <thead>\n",
       "    <tr style=\"text-align: right;\">\n",
       "      <th></th>\n",
       "      <th>category</th>\n",
       "      <th>id</th>\n",
       "      <th>noteType</th>\n",
       "      <th>orientation</th>\n",
       "      <th>position</th>\n",
       "      <th>publishTime</th>\n",
       "      <th>sourceDomain</th>\n",
       "      <th>sourceName</th>\n",
       "      <th>stream</th>\n",
       "      <th>streamType</th>\n",
       "      <th>subcategories</th>\n",
       "      <th>title</th>\n",
       "      <th>url</th>\n",
       "    </tr>\n",
       "  </thead>\n",
       "  <tbody>\n",
       "    <tr>\n",
       "      <th>0</th>\n",
       "      <td>sports</td>\n",
       "      <td>w5rHUTcx4FXXdCKfldecxA</td>\n",
       "      <td>GENERAL_NEWS</td>\n",
       "      <td>PORTRAIT</td>\n",
       "      <td>55</td>\n",
       "      <td>2019-02-14T23:45:00Z</td>\n",
       "      <td>maisfutebol.iol.pt</td>\n",
       "      <td>Maisfutebol</td>\n",
       "      <td>wtk</td>\n",
       "      <td>my news</td>\n",
       "      <td>[sports.football_domestic]</td>\n",
       "      <td>«4x4x3»: a maior surpresa do mercado de inverno</td>\n",
       "      <td>https://maisfutebol.iol.pt/amp/opiniao/sp-brag...</td>\n",
       "    </tr>\n",
       "  </tbody>\n",
       "</table>\n",
       "</div>"
      ],
      "text/plain": [
       "  category                      id      noteType orientation position  \\\n",
       "0   sports  w5rHUTcx4FXXdCKfldecxA  GENERAL_NEWS    PORTRAIT       55   \n",
       "\n",
       "            publishTime        sourceDomain   sourceName stream streamType  \\\n",
       "0  2019-02-14T23:45:00Z  maisfutebol.iol.pt  Maisfutebol    wtk    my news   \n",
       "\n",
       "                subcategories  \\\n",
       "0  [sports.football_domestic]   \n",
       "\n",
       "                                             title  \\\n",
       "0  «4x4x3»: a maior surpresa do mercado de inverno   \n",
       "\n",
       "                                                 url  \n",
       "0  https://maisfutebol.iol.pt/amp/opiniao/sp-brag...  "
      ]
     },
     "execution_count": 176,
     "metadata": {},
     "output_type": "execute_result"
    }
   ],
   "source": [
    "pd.json_normalize(T_1['ATTRIBUTES'][29994])"
   ]
  },
  {
   "cell_type": "code",
   "execution_count": 175,
   "metadata": {
    "scrolled": false
   },
   "outputs": [
    {
     "data": {
      "text/html": [
       "<div>\n",
       "<style scoped>\n",
       "    .dataframe tbody tr th:only-of-type {\n",
       "        vertical-align: middle;\n",
       "    }\n",
       "\n",
       "    .dataframe tbody tr th {\n",
       "        vertical-align: top;\n",
       "    }\n",
       "\n",
       "    .dataframe thead th {\n",
       "        text-align: right;\n",
       "    }\n",
       "</style>\n",
       "<table border=\"1\" class=\"dataframe\">\n",
       "  <thead>\n",
       "    <tr style=\"text-align: right;\">\n",
       "      <th></th>\n",
       "      <th>browser</th>\n",
       "      <th>category</th>\n",
       "      <th>id</th>\n",
       "      <th>network</th>\n",
       "      <th>noteType</th>\n",
       "      <th>publishTime</th>\n",
       "      <th>sourceDomain</th>\n",
       "      <th>sourceName</th>\n",
       "      <th>stream</th>\n",
       "      <th>subcategories</th>\n",
       "      <th>title</th>\n",
       "      <th>url</th>\n",
       "    </tr>\n",
       "  </thead>\n",
       "  <tbody>\n",
       "    <tr>\n",
       "      <th>0</th>\n",
       "      <td>Chrome</td>\n",
       "      <td>people_shows</td>\n",
       "      <td>os47h9tix5gYgkQYmbgG6w</td>\n",
       "      <td>online</td>\n",
       "      <td>SERENDIPITY</td>\n",
       "      <td>2019-02-14T10:42:00Z</td>\n",
       "      <td>intouch.wunderweib.de</td>\n",
       "      <td>InTouch</td>\n",
       "      <td>wtk</td>\n",
       "      <td>[people_shows.vips]</td>\n",
       "      <td>Michael Schumacher: Neues Glück für seine Ehef...</td>\n",
       "      <td>https://intouch.wunderweib.de/amp/michael-schu...</td>\n",
       "    </tr>\n",
       "  </tbody>\n",
       "</table>\n",
       "</div>"
      ],
      "text/plain": [
       "  browser      category                      id network     noteType  \\\n",
       "0  Chrome  people_shows  os47h9tix5gYgkQYmbgG6w  online  SERENDIPITY   \n",
       "\n",
       "            publishTime           sourceDomain sourceName stream  \\\n",
       "0  2019-02-14T10:42:00Z  intouch.wunderweib.de    InTouch    wtk   \n",
       "\n",
       "         subcategories                                              title  \\\n",
       "0  [people_shows.vips]  Michael Schumacher: Neues Glück für seine Ehef...   \n",
       "\n",
       "                                                 url  \n",
       "0  https://intouch.wunderweib.de/amp/michael-schu...  "
      ]
     },
     "execution_count": 175,
     "metadata": {},
     "output_type": "execute_result"
    }
   ],
   "source": [
    "## incorrect column structure\n",
    "pd.json_normalize(T_1['ATTRIBUTES'][29995])"
   ]
  },
  {
   "cell_type": "code",
   "execution_count": 177,
   "metadata": {
    "scrolled": true
   },
   "outputs": [
    {
     "data": {
      "text/html": [
       "<div>\n",
       "<style scoped>\n",
       "    .dataframe tbody tr th:only-of-type {\n",
       "        vertical-align: middle;\n",
       "    }\n",
       "\n",
       "    .dataframe tbody tr th {\n",
       "        vertical-align: top;\n",
       "    }\n",
       "\n",
       "    .dataframe thead th {\n",
       "        text-align: right;\n",
       "    }\n",
       "</style>\n",
       "<table border=\"1\" class=\"dataframe\">\n",
       "  <thead>\n",
       "    <tr style=\"text-align: right;\">\n",
       "      <th></th>\n",
       "      <th>category</th>\n",
       "      <th>id</th>\n",
       "      <th>noteType</th>\n",
       "      <th>orientation</th>\n",
       "      <th>position</th>\n",
       "      <th>publishTime</th>\n",
       "      <th>sourceDomain</th>\n",
       "      <th>sourceName</th>\n",
       "      <th>stream</th>\n",
       "      <th>streamType</th>\n",
       "      <th>subcategories</th>\n",
       "      <th>title</th>\n",
       "      <th>url</th>\n",
       "    </tr>\n",
       "  </thead>\n",
       "  <tbody>\n",
       "    <tr>\n",
       "      <th>0</th>\n",
       "      <td>fashion_beauty_lifestyle</td>\n",
       "      <td>wmrG7EUli7hKztOhtysnWQ</td>\n",
       "      <td>SPECIFIC_NEWS</td>\n",
       "      <td>PORTRAIT</td>\n",
       "      <td>70</td>\n",
       "      <td>2019-02-14T20:04:00Z</td>\n",
       "      <td>vogue.com</td>\n",
       "      <td>Vogue</td>\n",
       "      <td>wtk</td>\n",
       "      <td>my news</td>\n",
       "      <td>[fashion_beauty_lifestyle.family_relationships]</td>\n",
       "      <td>Telfar Hosts a Southern, Family-Style Dinner a...</td>\n",
       "      <td>https://www.vogue.com/article/telfar-fashion-w...</td>\n",
       "    </tr>\n",
       "  </tbody>\n",
       "</table>\n",
       "</div>"
      ],
      "text/plain": [
       "                   category                      id       noteType  \\\n",
       "0  fashion_beauty_lifestyle  wmrG7EUli7hKztOhtysnWQ  SPECIFIC_NEWS   \n",
       "\n",
       "  orientation position           publishTime sourceDomain sourceName stream  \\\n",
       "0    PORTRAIT       70  2019-02-14T20:04:00Z    vogue.com      Vogue    wtk   \n",
       "\n",
       "  streamType                                    subcategories  \\\n",
       "0    my news  [fashion_beauty_lifestyle.family_relationships]   \n",
       "\n",
       "                                               title  \\\n",
       "0  Telfar Hosts a Southern, Family-Style Dinner a...   \n",
       "\n",
       "                                                 url  \n",
       "0  https://www.vogue.com/article/telfar-fashion-w...  "
      ]
     },
     "execution_count": 177,
     "metadata": {},
     "output_type": "execute_result"
    }
   ],
   "source": [
    "pd.json_normalize(T_1['ATTRIBUTES'][29996])"
   ]
  },
  {
   "cell_type": "code",
   "execution_count": 200,
   "metadata": {},
   "outputs": [],
   "source": [
    "expected_cols = pd.json_normalize(T_1['ATTRIBUTES'][29996]).columns.to_list()"
   ]
  },
  {
   "cell_type": "code",
   "execution_count": 201,
   "metadata": {},
   "outputs": [
    {
     "data": {
      "text/plain": [
       "['category',\n",
       " 'id',\n",
       " 'noteType',\n",
       " 'orientation',\n",
       " 'position',\n",
       " 'publishTime',\n",
       " 'sourceDomain',\n",
       " 'sourceName',\n",
       " 'stream',\n",
       " 'streamType',\n",
       " 'subcategories',\n",
       " 'title',\n",
       " 'url']"
      ]
     },
     "execution_count": 201,
     "metadata": {},
     "output_type": "execute_result"
    }
   ],
   "source": [
    "expected_cols"
   ]
  },
  {
   "cell_type": "code",
   "execution_count": 225,
   "metadata": {},
   "outputs": [
    {
     "ename": "TypeError",
     "evalue": "'numpy.ndarray' object is not callable",
     "output_type": "error",
     "traceback": [
      "\u001b[1;31m---------------------------------------------------------------------------\u001b[0m",
      "\u001b[1;31mTypeError\u001b[0m                                 Traceback (most recent call last)",
      "\u001b[1;32m<ipython-input-225-89f83f4edce4>\u001b[0m in \u001b[0;36m<module>\u001b[1;34m\u001b[0m\n\u001b[0;32m      5\u001b[0m         \u001b[1;32mif\u001b[0m \u001b[0mkey\u001b[0m \u001b[1;32mnot\u001b[0m \u001b[1;32min\u001b[0m \u001b[0mnesteddict\u001b[0m\u001b[1;33m:\u001b[0m\u001b[1;33m\u001b[0m\u001b[1;33m\u001b[0m\u001b[0m\n\u001b[0;32m      6\u001b[0m             \u001b[1;31m#print(key, 'is unknown')\u001b[0m\u001b[1;33m\u001b[0m\u001b[1;33m\u001b[0m\u001b[1;33m\u001b[0m\u001b[0m\n\u001b[1;32m----> 7\u001b[1;33m             \u001b[0mnewdict\u001b[0m\u001b[1;33m[\u001b[0m\u001b[0mT_1\u001b[0m\u001b[1;33m[\u001b[0m\u001b[1;34m'ATTRIBUTES'\u001b[0m\u001b[1;33m]\u001b[0m\u001b[1;33m.\u001b[0m\u001b[0mkeys\u001b[0m\u001b[1;33m(\u001b[0m\u001b[1;33m)\u001b[0m\u001b[1;33m[\u001b[0m\u001b[0mi\u001b[0m\u001b[1;33m]\u001b[0m\u001b[1;33m]\u001b[0m \u001b[1;33m=\u001b[0m \u001b[0mT_1\u001b[0m\u001b[1;33m[\u001b[0m\u001b[1;34m'ATTRIBUTES'\u001b[0m\u001b[1;33m]\u001b[0m\u001b[1;33m.\u001b[0m\u001b[0mvalues\u001b[0m\u001b[1;33m(\u001b[0m\u001b[1;33m)\u001b[0m\u001b[1;33m[\u001b[0m\u001b[0mi\u001b[0m\u001b[1;33m]\u001b[0m\u001b[1;33m\u001b[0m\u001b[1;33m\u001b[0m\u001b[0m\n\u001b[0m\u001b[0;32m      8\u001b[0m         \u001b[1;31m#else:\u001b[0m\u001b[1;33m\u001b[0m\u001b[1;33m\u001b[0m\u001b[1;33m\u001b[0m\u001b[0m\n\u001b[0;32m      9\u001b[0m         \u001b[1;31m#    value = nesteddict[key]\u001b[0m\u001b[1;33m\u001b[0m\u001b[1;33m\u001b[0m\u001b[1;33m\u001b[0m\u001b[0m\n",
      "\u001b[1;31mTypeError\u001b[0m: 'numpy.ndarray' object is not callable"
     ]
    }
   ],
   "source": [
    "## Identify invalid keys\n",
    "newdict = {}\n",
    "for nesteddict in T_1['ATTRIBUTES']:\n",
    "    for key in expected_cols:\n",
    "        if key not in nesteddict:\n",
    "            #print(key, 'is unknown')\n",
    "            newdict[T_1['ATTRIBUTES'].keys()[i]] = T_1['ATTRIBUTES'].values()[i]\n",
    "        #else:\n",
    "        #    value = nesteddict[key]\n",
    "        #    print('{} = {}'.format(key, value))"
   ]
  },
  {
   "cell_type": "code",
   "execution_count": 226,
   "metadata": {},
   "outputs": [
    {
     "data": {
      "text/plain": [
       "{}"
      ]
     },
     "execution_count": 226,
     "metadata": {},
     "output_type": "execute_result"
    }
   ],
   "source": [
    "newdict"
   ]
  },
  {
   "cell_type": "code",
   "execution_count": 212,
   "metadata": {},
   "outputs": [],
   "source": [
    "test_invalid_key = {k: T_1['ATTRIBUTES'] for k in T_1 if k not in expected_cols}"
   ]
  }
 ],
 "metadata": {
  "kernelspec": {
   "display_name": "Python 3",
   "language": "python",
   "name": "python3"
  },
  "language_info": {
   "codemirror_mode": {
    "name": "ipython",
    "version": 3
   },
   "file_extension": ".py",
   "mimetype": "text/x-python",
   "name": "python",
   "nbconvert_exporter": "python",
   "pygments_lexer": "ipython3",
   "version": "3.8.5"
  }
 },
 "nbformat": 4,
 "nbformat_minor": 4
}
