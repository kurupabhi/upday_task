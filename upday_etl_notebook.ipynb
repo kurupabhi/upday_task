{
 "cells": [
  {
   "cell_type": "code",
   "execution_count": 1,
   "metadata": {},
   "outputs": [],
   "source": [
    "import json \n",
    "import pandas as pd \n",
    "import numpy as np\n",
    "import psycopg2\n",
    "import pandas as pd\n",
    "from sqlalchemy import create_engine"
   ]
  },
  {
   "cell_type": "code",
   "execution_count": 2,
   "metadata": {},
   "outputs": [],
   "source": [
    "#import TS files\n",
    "f1 = 'https://upday-data-assignment.s3.eu-west-1.amazonaws.com/lake/2019-02-15.tsv'\n",
    "f2 = 'https://upday-data-assignment.s3.eu-west-1.amazonaws.com/lake/2019-02-16.tsv'\n",
    "f3 = 'https://upday-data-assignment.s3.eu-west-1.amazonaws.com/lake/2019-02-17.tsv'\n",
    "\n",
    "# Convert to dataframes\n",
    "t1 = pd.read_csv(f1, sep='\\t', header=0)\n",
    "t2 = pd.read_csv(f1, sep='\\t', header=0)\n",
    "t3 = pd.read_csv(f1, sep='\\t', header=0)"
   ]
  },
  {
   "cell_type": "code",
   "execution_count": 3,
   "metadata": {},
   "outputs": [],
   "source": [
    "#Apped all files into 1\n",
    "T = t1.append(t2.append(t3)).reset_index()\n",
    "\n",
    "#Create a copy for test\n",
    "T_1 = T.copy()"
   ]
  },
  {
   "cell_type": "code",
   "execution_count": 6,
   "metadata": {},
   "outputs": [],
   "source": [
    "# replace nan values\n",
    "T_1['ATTRIBUTES'] = T_1['ATTRIBUTES'].fillna('{}')\n",
    "T_1['ATTRIBUTES'] = T_1['ATTRIBUTES'].apply(json.loads)"
   ]
  },
  {
   "cell_type": "code",
   "execution_count": 8,
   "metadata": {},
   "outputs": [],
   "source": [
    "# Flatten json and append columns to main DF\n",
    "df_ATTRIBUTES = pd.json_normalize(T_1['ATTRIBUTES'])\n",
    "complete_df = pd.concat([T_1, df_ATTRIBUTES], axis=1).drop('ATTRIBUTES', axis=1)"
   ]
  },
  {
   "cell_type": "code",
   "execution_count": 10,
   "metadata": {},
   "outputs": [],
   "source": [
    "#prepare data for table article_performance \n",
    "stage = complete_df[['id', 'ID', 'TIMESTAMP', 'EVENT_NAME','title', 'category']][(complete_df.EVENT_NAME.str.contains(\"card\")) | (complete_df.EVENT_NAME.str.contains(\"article\"))].sort_values(by=['id']).reset_index(drop=True)\n",
    "\n",
    "#limit the timestamp to only date part\n",
    "stage['date'] = stage.TIMESTAMP.str[:10]"
   ]
  },
  {
   "cell_type": "markdown",
   "metadata": {},
   "source": [
    "## Prepare data for article_performance table "
   ]
  },
  {
   "cell_type": "code",
   "execution_count": 11,
   "metadata": {},
   "outputs": [],
   "source": [
    "# count rows for events\n",
    "art_perf = stage.groupby(['id', 'date','title', 'category', 'EVENT_NAME']\n",
    "                ).size().unstack().reset_index().fillna(0)\n",
    "\n",
    "# combine numbers for card view events\n",
    "art_perf['card_views']=art_perf.my_news_card_viewed+art_perf.top_news_card_viewed"
   ]
  },
  {
   "cell_type": "code",
   "execution_count": 12,
   "metadata": {},
   "outputs": [],
   "source": [
    "#create dataframe formatted for article_performance table\n",
    "article_performance = art_perf.drop(['my_news_card_viewed', 'top_news_card_viewed'], axis=1).rename(columns={\"article_viewed\": \"article_views\", \"id\":\"article_id\"})\n",
    "\n",
    "# reoder columns as per requirement\n",
    "article_performance = article_performance[['article_id', 'date', 'title', 'category', 'card_views', 'article_views']]"
   ]
  },
  {
   "cell_type": "code",
   "execution_count": 14,
   "metadata": {},
   "outputs": [
    {
     "data": {
      "text/html": [
       "<div>\n",
       "<style scoped>\n",
       "    .dataframe tbody tr th:only-of-type {\n",
       "        vertical-align: middle;\n",
       "    }\n",
       "\n",
       "    .dataframe tbody tr th {\n",
       "        vertical-align: top;\n",
       "    }\n",
       "\n",
       "    .dataframe thead th {\n",
       "        text-align: right;\n",
       "    }\n",
       "</style>\n",
       "<table border=\"1\" class=\"dataframe\">\n",
       "  <thead>\n",
       "    <tr style=\"text-align: right;\">\n",
       "      <th>EVENT_NAME</th>\n",
       "      <th>article_id</th>\n",
       "      <th>date</th>\n",
       "      <th>title</th>\n",
       "      <th>category</th>\n",
       "      <th>card_views</th>\n",
       "      <th>article_views</th>\n",
       "    </tr>\n",
       "  </thead>\n",
       "  <tbody>\n",
       "    <tr>\n",
       "      <th>0</th>\n",
       "      <td>-1e_PWmoy-tnoBrgcDA2-A</td>\n",
       "      <td>2019-02-15</td>\n",
       "      <td>Aktorzy, którzy zginęli na planie filmowym i p...</td>\n",
       "      <td>fashion_beauty_lifestyle</td>\n",
       "      <td>3.0</td>\n",
       "      <td>0.0</td>\n",
       "    </tr>\n",
       "    <tr>\n",
       "      <th>1</th>\n",
       "      <td>-1kNxqvvZsmYDKJ5C-SGGQ</td>\n",
       "      <td>2019-02-15</td>\n",
       "      <td>Mort de Kristoff St. John : son ex-femme dévoi...</td>\n",
       "      <td>people_shows</td>\n",
       "      <td>18.0</td>\n",
       "      <td>0.0</td>\n",
       "    </tr>\n",
       "    <tr>\n",
       "      <th>2</th>\n",
       "      <td>-36YHd9KZ1RUVBfCXkvITg</td>\n",
       "      <td>2019-02-15</td>\n",
       "      <td>This Crazy-Affordable Skin Care Brand Gave Me ...</td>\n",
       "      <td>fashion_beauty_lifestyle</td>\n",
       "      <td>9.0</td>\n",
       "      <td>0.0</td>\n",
       "    </tr>\n",
       "    <tr>\n",
       "      <th>3</th>\n",
       "      <td>-3RsLiL0PwPUeEwwrEbIMw</td>\n",
       "      <td>2019-02-15</td>\n",
       "      <td>Lazio, ti è andata pure bene! Banega sontuoso:...</td>\n",
       "      <td>sports</td>\n",
       "      <td>0.0</td>\n",
       "      <td>3.0</td>\n",
       "    </tr>\n",
       "    <tr>\n",
       "      <th>4</th>\n",
       "      <td>-72o6DS38oeYSCfz5I5I7Q</td>\n",
       "      <td>2019-02-15</td>\n",
       "      <td>Zurigo-Napoli, scontri tra ultras nel pre-part...</td>\n",
       "      <td>sports</td>\n",
       "      <td>3.0</td>\n",
       "      <td>0.0</td>\n",
       "    </tr>\n",
       "  </tbody>\n",
       "</table>\n",
       "</div>"
      ],
      "text/plain": [
       "EVENT_NAME              article_id        date  \\\n",
       "0           -1e_PWmoy-tnoBrgcDA2-A  2019-02-15   \n",
       "1           -1kNxqvvZsmYDKJ5C-SGGQ  2019-02-15   \n",
       "2           -36YHd9KZ1RUVBfCXkvITg  2019-02-15   \n",
       "3           -3RsLiL0PwPUeEwwrEbIMw  2019-02-15   \n",
       "4           -72o6DS38oeYSCfz5I5I7Q  2019-02-15   \n",
       "\n",
       "EVENT_NAME                                              title  \\\n",
       "0           Aktorzy, którzy zginęli na planie filmowym i p...   \n",
       "1           Mort de Kristoff St. John : son ex-femme dévoi...   \n",
       "2           This Crazy-Affordable Skin Care Brand Gave Me ...   \n",
       "3           Lazio, ti è andata pure bene! Banega sontuoso:...   \n",
       "4           Zurigo-Napoli, scontri tra ultras nel pre-part...   \n",
       "\n",
       "EVENT_NAME                  category  card_views  article_views  \n",
       "0           fashion_beauty_lifestyle         3.0            0.0  \n",
       "1                       people_shows        18.0            0.0  \n",
       "2           fashion_beauty_lifestyle         9.0            0.0  \n",
       "3                             sports         0.0            3.0  \n",
       "4                             sports         3.0            0.0  "
      ]
     },
     "execution_count": 14,
     "metadata": {},
     "output_type": "execute_result"
    }
   ],
   "source": [
    "article_performance.head()"
   ]
  },
  {
   "cell_type": "markdown",
   "metadata": {},
   "source": [
    "## Prepare data for user_performance table "
   ]
  },
  {
   "cell_type": "markdown",
   "metadata": {},
   "source": [
    "##### The id column for user was not clear. \n",
    "The \"ID\" column contained only 16 unique ids which accounted to few card views. They also did not have any article views.\n",
    "Due to this I continued using the \"id\" column instead to calculate the ctr.\n"
   ]
  },
  {
   "cell_type": "code",
   "execution_count": 16,
   "metadata": {},
   "outputs": [
    {
     "name": "stderr",
     "output_type": "stream",
     "text": [
      "<ipython-input-16-aeb077de32e8>:5: SettingWithCopyWarning: \n",
      "A value is trying to be set on a copy of a slice from a DataFrame.\n",
      "Try using .loc[row_indexer,col_indexer] = value instead\n",
      "\n",
      "See the caveats in the documentation: https://pandas.pydata.org/pandas-docs/stable/user_guide/indexing.html#returning-a-view-versus-a-copy\n",
      "  usr_perf['ctr']=usr_perf.article_views / usr_perf.card_views\n"
     ]
    }
   ],
   "source": [
    "# prepare data for user performance table\n",
    "usr_perf = article_performance[['article_id', 'date', 'card_views', 'article_views']]\n",
    "\n",
    "# combine numbers for card view events\n",
    "usr_perf['ctr']=usr_perf.article_views / usr_perf.card_views\n",
    "\n",
    "#create dataframe formatted for user_performance table\n",
    "user_performance  = usr_perf.drop(['article_views', 'card_views'], axis=1).rename(columns={\"article_id\": \"user_id\"}).reset_index(drop=True)"
   ]
  },
  {
   "cell_type": "code",
   "execution_count": 17,
   "metadata": {},
   "outputs": [
    {
     "data": {
      "text/html": [
       "<div>\n",
       "<style scoped>\n",
       "    .dataframe tbody tr th:only-of-type {\n",
       "        vertical-align: middle;\n",
       "    }\n",
       "\n",
       "    .dataframe tbody tr th {\n",
       "        vertical-align: top;\n",
       "    }\n",
       "\n",
       "    .dataframe thead th {\n",
       "        text-align: right;\n",
       "    }\n",
       "</style>\n",
       "<table border=\"1\" class=\"dataframe\">\n",
       "  <thead>\n",
       "    <tr style=\"text-align: right;\">\n",
       "      <th>EVENT_NAME</th>\n",
       "      <th>user_id</th>\n",
       "      <th>date</th>\n",
       "      <th>ctr</th>\n",
       "    </tr>\n",
       "  </thead>\n",
       "  <tbody>\n",
       "    <tr>\n",
       "      <th>0</th>\n",
       "      <td>-1e_PWmoy-tnoBrgcDA2-A</td>\n",
       "      <td>2019-02-15</td>\n",
       "      <td>0.0</td>\n",
       "    </tr>\n",
       "    <tr>\n",
       "      <th>1</th>\n",
       "      <td>-1kNxqvvZsmYDKJ5C-SGGQ</td>\n",
       "      <td>2019-02-15</td>\n",
       "      <td>0.0</td>\n",
       "    </tr>\n",
       "    <tr>\n",
       "      <th>2</th>\n",
       "      <td>-36YHd9KZ1RUVBfCXkvITg</td>\n",
       "      <td>2019-02-15</td>\n",
       "      <td>0.0</td>\n",
       "    </tr>\n",
       "    <tr>\n",
       "      <th>3</th>\n",
       "      <td>-3RsLiL0PwPUeEwwrEbIMw</td>\n",
       "      <td>2019-02-15</td>\n",
       "      <td>inf</td>\n",
       "    </tr>\n",
       "    <tr>\n",
       "      <th>4</th>\n",
       "      <td>-72o6DS38oeYSCfz5I5I7Q</td>\n",
       "      <td>2019-02-15</td>\n",
       "      <td>0.0</td>\n",
       "    </tr>\n",
       "  </tbody>\n",
       "</table>\n",
       "</div>"
      ],
      "text/plain": [
       "EVENT_NAME                 user_id        date  ctr\n",
       "0           -1e_PWmoy-tnoBrgcDA2-A  2019-02-15  0.0\n",
       "1           -1kNxqvvZsmYDKJ5C-SGGQ  2019-02-15  0.0\n",
       "2           -36YHd9KZ1RUVBfCXkvITg  2019-02-15  0.0\n",
       "3           -3RsLiL0PwPUeEwwrEbIMw  2019-02-15  inf\n",
       "4           -72o6DS38oeYSCfz5I5I7Q  2019-02-15  0.0"
      ]
     },
     "execution_count": 17,
     "metadata": {},
     "output_type": "execute_result"
    }
   ],
   "source": [
    "user_performance.head()"
   ]
  }
 ],
 "metadata": {
  "kernelspec": {
   "display_name": "Python 3",
   "language": "python",
   "name": "python3"
  },
  "language_info": {
   "codemirror_mode": {
    "name": "ipython",
    "version": 3
   },
   "file_extension": ".py",
   "mimetype": "text/x-python",
   "name": "python",
   "nbconvert_exporter": "python",
   "pygments_lexer": "ipython3",
   "version": "3.8.5"
  }
 },
 "nbformat": 4,
 "nbformat_minor": 4
}
